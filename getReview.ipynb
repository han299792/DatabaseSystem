{
 "cells": [
  {
   "cell_type": "code",
   "execution_count": 5,
   "metadata": {},
   "outputs": [
    {
     "name": "stdout",
     "output_type": "stream",
     "text": [
      "No more 'See More' button or error: Message: \n",
      "Stacktrace:\n",
      "0   chromedriver                        0x000000010320faf0 cxxbridge1$str$ptr + 3651580\n",
      "1   chromedriver                        0x0000000103208340 cxxbridge1$str$ptr + 3620940\n",
      "2   chromedriver                        0x0000000102c704b4 cxxbridge1$string$len + 89224\n",
      "3   chromedriver                        0x0000000102cb4898 cxxbridge1$string$len + 368748\n",
      "4   chromedriver                        0x0000000102cee0fc cxxbridge1$string$len + 604368\n",
      "5   chromedriver                        0x0000000102ca90b0 cxxbridge1$string$len + 321668\n",
      "6   chromedriver                        0x0000000102ca9d00 cxxbridge1$string$len + 324820\n",
      "7   chromedriver                        0x00000001031dae34 cxxbridge1$str$ptr + 3435328\n",
      "8   chromedriver                        0x00000001031de14c cxxbridge1$str$ptr + 3448408\n",
      "9   chromedriver                        0x00000001031c21a8 cxxbridge1$str$ptr + 3333812\n",
      "10  chromedriver                        0x00000001031dea0c cxxbridge1$str$ptr + 3450648\n",
      "11  chromedriver                        0x00000001031b39b4 cxxbridge1$str$ptr + 3274432\n",
      "12  chromedriver                        0x00000001031f9120 cxxbridge1$str$ptr + 3558956\n",
      "13  chromedriver                        0x00000001031f929c cxxbridge1$str$ptr + 3559336\n",
      "14  chromedriver                        0x0000000103207fb4 cxxbridge1$str$ptr + 3620032\n",
      "15  libsystem_pthread.dylib             0x0000000186022034 _pthread_start + 136\n",
      "16  libsystem_pthread.dylib             0x000000018601ce3c thread_start + 8\n",
      "\n",
      "Scraped 496 reviews.\n"
     ]
    }
   ],
   "source": [
    "from selenium import webdriver\n",
    "from selenium.webdriver.common.by import By\n",
    "from selenium.webdriver.support.ui import WebDriverWait\n",
    "from selenium.webdriver.support import expected_conditions as EC\n",
    "import json\n",
    "import time\n",
    "\n",
    "def scrape_reviews(url):\n",
    "    driver = webdriver.Chrome()\n",
    "    driver.get(url)\n",
    "\n",
    "    # 페이지 로드 대기\n",
    "    WebDriverWait(driver, 10).until(EC.presence_of_element_located((By.TAG_NAME, \"body\")))\n",
    "\n",
    "    # '더보기' 버튼 반복 클릭\n",
    "    while True:\n",
    "        try:\n",
    "            # '더보기' 버튼 찾기\n",
    "            see_more_button = WebDriverWait(driver, 5).until(\n",
    "                EC.element_to_be_clickable((By.CSS_SELECTOR, \"a.fvwqf\"))  # 버튼의 CSS 선택자\n",
    "            )\n",
    "            see_more_button.click()\n",
    "            time.sleep(2)  # 버튼 클릭 후 대기\n",
    "        except Exception as e:\n",
    "            print(\"No more 'See More' button or error:\", e)\n",
    "            break  # 더 이상 '더보기' 버튼이 없으면 루프 종료\n",
    "\n",
    "    # 리뷰 데이터 수집\n",
    "    reviews = []\n",
    "    review_elements = driver.find_elements(By.CSS_SELECTOR, \"li.pui__X35jYm.place_apply_pui.EjjAW\".replace(\" \", \".\"))\n",
    "    for review in review_elements:\n",
    "        try:\n",
    "            # 작성자 정보 추출\n",
    "            author_element = review.find_element(By.CSS_SELECTOR, \"span.pui__NMi-Dp\")\n",
    "            author_name = author_element.text.strip()\n",
    "\n",
    "            # 리뷰 내용 추출\n",
    "            content_element = review.find_element(By.CSS_SELECTOR, \"a[data-pui-click-code='rvshowmore']\")\n",
    "            content = content_element.text.strip()\n",
    "\n",
    "            # 리뷰 데이터 저장\n",
    "            reviews.append({\"author\": author_name, \"review\": content})\n",
    "        except Exception as e:\n",
    "            print(\"Error extracting review:\", e)\n",
    "\n",
    "    # JSON 파일 저장\n",
    "    with open(\"reviews.json\", \"w\", encoding=\"utf-8\") as f:\n",
    "        json.dump(reviews, f, ensure_ascii=False, indent=4)\n",
    "\n",
    "    print(f\"Scraped {len(reviews)} reviews.\")\n",
    "    driver.quit()\n",
    "\n",
    "# URL로 함수 호출\n",
    "scrape_reviews(\"https://m.place.naver.com/restaurant/280965665/review/visitor\")\n"
   ]
  },
  {
   "cell_type": "code",
   "execution_count": null,
   "metadata": {},
   "outputs": [],
   "source": []
  }
 ],
 "metadata": {
  "kernelspec": {
   "display_name": "AI_2024",
   "language": "python",
   "name": "python3"
  },
  "language_info": {
   "codemirror_mode": {
    "name": "ipython",
    "version": 3
   },
   "file_extension": ".py",
   "mimetype": "text/x-python",
   "name": "python",
   "nbconvert_exporter": "python",
   "pygments_lexer": "ipython3",
   "version": "3.9.18"
  }
 },
 "nbformat": 4,
 "nbformat_minor": 2
}

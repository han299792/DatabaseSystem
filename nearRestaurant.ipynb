{
 "cells": [
  {
   "cell_type": "code",
   "execution_count": 1,
   "metadata": {},
   "outputs": [
    {
     "name": "stdout",
     "output_type": "stream",
     "text": [
      "Customer: Alice, Restaurant: OwlCottage, Distance: 863.36 meters\n",
      "Customer: Alice, Restaurant: ZhangJiaJie, Distance: 1015.52 meters\n",
      "Customer: Alice, Restaurant: YeonWha, Distance: 1066.80 meters\n",
      "Customer: Alice, Restaurant: HyeonOk, Distance: 1183.97 meters\n",
      "Customer: Alice, Restaurant: Mayo, Distance: 1229.79 meters\n",
      "Customer: Bob, Restaurant: HyeonOk, Distance: 541.38 meters\n",
      "Customer: Bob, Restaurant: YeonWha, Distance: 657.51 meters\n",
      "Customer: Bob, Restaurant: ZhangJiaJie, Distance: 710.49 meters\n",
      "Customer: Bob, Restaurant: Mayo, Distance: 1042.33 meters\n",
      "Customer: Bob, Restaurant: OwlCottage, Distance: 2585.04 meters\n",
      "Customer: Charlie, Restaurant: Mayo, Distance: 3794.40 meters\n",
      "Customer: Charlie, Restaurant: HyeonOk, Distance: 3885.01 meters\n",
      "Customer: Charlie, Restaurant: YeonWha, Distance: 3979.04 meters\n",
      "Customer: Charlie, Restaurant: ZhangJiaJie, Distance: 4040.53 meters\n",
      "Customer: David, Restaurant: HareHare, Distance: 621.01 meters\n",
      "Customer: David, Restaurant: Solemio, Distance: 1483.46 meters\n",
      "Customer: David, Restaurant: Bespoke, Distance: 1841.61 meters\n",
      "Customer: David, Restaurant: SungShimDang, Distance: 4628.87 meters\n",
      "Customer: Eve, Restaurant: HareHare, Distance: 1161.55 meters\n",
      "Customer: Eve, Restaurant: Solemio, Distance: 1712.37 meters\n",
      "Customer: Eve, Restaurant: Bespoke, Distance: 1781.21 meters\n",
      "Customer: Frank, Restaurant: Bespoke, Distance: 457.55 meters\n",
      "Customer: Frank, Restaurant: HareHare, Distance: 2311.34 meters\n",
      "Customer: Frank, Restaurant: Solemio, Distance: 3388.98 meters\n"
     ]
    }
   ],
   "source": [
    "from pymongo import MongoClient\n",
    "\n",
    "client = MongoClient(\"mongodb://localhost:27017/\")\n",
    "db = client['test']\n",
    "customerData = db['Customer']\n",
    "resData = db['Restaurant']\n",
    "\n",
    "customer_name = []\n",
    "customer_address = []\n",
    "\n",
    "a = customerData.find()\n",
    "for doc in a:\n",
    "    if 'address' in doc and 'distance' in doc['address']:\n",
    "        customer_name.append(doc['cus_name'])\n",
    "        customer_address.append(doc['address']['distance']['coordinates'])\n",
    "\n",
    "\n",
    "for i, customer in enumerate(customer_address):\n",
    "    customer_lon, customer_lat = customer\n",
    "\n",
    "    cursor = resData.aggregate([\n",
    "        {\n",
    "            \"$geoNear\": {\n",
    "                \"near\": {\n",
    "                    \"type\": \"Point\",\n",
    "                    \"coordinates\": [customer_lon, customer_lat]\n",
    "                },\n",
    "                \"distanceField\": \"distance\",\n",
    "                \"maxDistance\": 5000, \n",
    "                \"spherical\": True\n",
    "            }\n",
    "        }\n",
    "    ])\n",
    "\n",
    "    for doc in cursor:\n",
    "        print(f\"Customer: {customer_name[i]}, Restaurant: {doc['name']}, Distance: {doc['distance']:.2f} meters\")\n"
   ]
  },
  {
   "cell_type": "code",
   "execution_count": null,
   "metadata": {},
   "outputs": [],
   "source": []
  }
 ],
 "metadata": {
  "kernelspec": {
   "display_name": "database",
   "language": "python",
   "name": "python3"
  },
  "language_info": {
   "codemirror_mode": {
    "name": "ipython",
    "version": 3
   },
   "file_extension": ".py",
   "mimetype": "text/x-python",
   "name": "python",
   "nbconvert_exporter": "python",
   "pygments_lexer": "ipython3",
   "version": "3.12.7"
  }
 },
 "nbformat": 4,
 "nbformat_minor": 2
}

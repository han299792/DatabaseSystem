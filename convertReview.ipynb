{
 "cells": [
  {
   "cell_type": "code",
   "execution_count": 6,
   "metadata": {},
   "outputs": [
    {
     "name": "stdout",
     "output_type": "stream",
     "text": [
      "Updated JSON file has been saved to updated_reviews.json.\n"
     ]
    }
   ],
   "source": [
    "import json\n",
    "\n",
    "# Load the JSON data\n",
    "input_file = \"app/reviews.json\"\n",
    "output_file = \"updated_reviews.json\"\n",
    "\n",
    "with open(input_file, \"r\", encoding=\"utf-8\") as f:\n",
    "    reviews = json.load(f)\n",
    "\n",
    "# Initialize counters for rec_id and review_id\n",
    "rec_counter = 1\n",
    "review_counter = 1\n",
    "\n",
    "# Update each review with rec_id and review_id\n",
    "for review in reviews:\n",
    "    review[\"rec_id\"] = f\"REC{rec_counter:08d}\"\n",
    "    review[\"review_id\"] = f\"REV{review_counter:08d}\"\n",
    "    rec_counter += 1\n",
    "    review_counter += 1\n",
    "\n",
    "# Write the updated data back to a new JSON file\n",
    "with open(output_file, \"w\", encoding=\"utf-8\") as f:\n",
    "    json.dump(reviews, f, ensure_ascii=False, indent=4)\n",
    "\n",
    "print(f\"Updated JSON file has been saved to {output_file}.\")\n"
   ]
  },
  {
   "cell_type": "code",
   "execution_count": null,
   "metadata": {},
   "outputs": [],
   "source": []
  }
 ],
 "metadata": {
  "kernelspec": {
   "display_name": "fastapi-env",
   "language": "python",
   "name": "python3"
  },
  "language_info": {
   "codemirror_mode": {
    "name": "ipython",
    "version": 3
   },
   "file_extension": ".py",
   "mimetype": "text/x-python",
   "name": "python",
   "nbconvert_exporter": "python",
   "pygments_lexer": "ipython3",
   "version": "3.8.20"
  }
 },
 "nbformat": 4,
 "nbformat_minor": 2
}
